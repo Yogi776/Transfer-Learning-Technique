{
 "cells": [
  {
   "cell_type": "markdown",
   "metadata": {},
   "source": [
    "## Transfer Learning VGG 16 and VGG 19 using Keras"
   ]
  },
  {
   "cell_type": "markdown",
   "metadata": {},
   "source": [
    "Please download the dataset from the below url"
   ]
  },
  {
   "cell_type": "code",
   "execution_count": 1,
   "metadata": {},
   "outputs": [],
   "source": [
    "from tensorflow.compat.v1 import ConfigProto\n",
    "from tensorflow.compat.v1 import InteractiveSession\n",
    "\n",
    "config = ConfigProto()\n",
    "config.gpu_options.per_process_gpu_memory_fraction = 0.8\n",
    "config.gpu_options.allow_growth = True\n",
    "session = InteractiveSession(config=config)"
   ]
  },
  {
   "cell_type": "code",
   "execution_count": 2,
   "metadata": {},
   "outputs": [
    {
     "name": "stdout",
     "output_type": "stream",
     "text": [
      "Please install GPU version of TF\n"
     ]
    }
   ],
   "source": [
    "import tensorflow as tf \n",
    "\n",
    "if tf.test.gpu_device_name(): \n",
    "    \n",
    "\n",
    "    print('Default GPU Device:{}'.format(tf.test.gpu_device_name()))\n",
    "\n",
    "else:\n",
    "\n",
    "    print(\"Please install GPU version of TF\")"
   ]
  },
  {
   "cell_type": "code",
   "execution_count": 3,
   "metadata": {},
   "outputs": [
    {
     "data": {
      "text/plain": [
       "''"
      ]
     },
     "execution_count": 3,
     "metadata": {},
     "output_type": "execute_result"
    }
   ],
   "source": [
    "tf.test.gpu_device_name()"
   ]
  },
  {
   "cell_type": "code",
   "execution_count": 4,
   "metadata": {},
   "outputs": [],
   "source": [
    "# import the libraries as shown below\n",
    "\n",
    "from tensorflow.keras.layers import Input, Lambda, Dense, Flatten\n",
    "from tensorflow.keras.models import Model\n",
    "from tensorflow.keras.applications.vgg16 import VGG16\n",
    "from tensorflow.keras.applications.vgg16 import preprocess_input\n",
    "from tensorflow.keras.preprocessing import image\n",
    "from tensorflow.keras.preprocessing.image import ImageDataGenerator,load_img\n",
    "from tensorflow.keras.models import Sequential\n",
    "import numpy as np\n",
    "from glob import glob\n"
   ]
  },
  {
   "cell_type": "code",
   "execution_count": 5,
   "metadata": {},
   "outputs": [],
   "source": [
    "# re-size all the images to this\n",
    "IMAGE_SIZE = [224, 224]\n",
    "\n",
    "train_path = 'Datasets/train'\n",
    "valid_path = 'Datasets/test'\n"
   ]
  },
  {
   "cell_type": "code",
   "execution_count": 6,
   "metadata": {},
   "outputs": [],
   "source": [
    "# Import the Vgg 16 library as shown below and add preprocessing layer to the front of VGG\n",
    "# Here we will be using imagenet weights\n",
    "\n",
    "vgg16 = VGG16(input_shape=IMAGE_SIZE + [3], weights='imagenet', include_top=False)\n",
    "\n",
    "\n"
   ]
  },
  {
   "cell_type": "code",
   "execution_count": 7,
   "metadata": {},
   "outputs": [],
   "source": [
    "# don't train existing weights\n",
    "for layer in vgg16.layers:\n",
    "    layer.trainable = False"
   ]
  },
  {
   "cell_type": "code",
   "execution_count": 8,
   "metadata": {},
   "outputs": [],
   "source": [
    "  # useful for getting number of output classes\n",
    "folders = glob('Datasets/train/*')"
   ]
  },
  {
   "cell_type": "code",
   "execution_count": 9,
   "metadata": {},
   "outputs": [],
   "source": [
    "# our layers - you can add more if you want\n",
    "x = Flatten()(vgg16.output)"
   ]
  },
  {
   "cell_type": "code",
   "execution_count": 10,
   "metadata": {},
   "outputs": [],
   "source": [
    "prediction = Dense(len(folders), activation='softmax')(x)\n",
    "\n",
    "# create a model object\n",
    "model = Model(inputs=vgg16.input, outputs=prediction)"
   ]
  },
  {
   "cell_type": "code",
   "execution_count": 11,
   "metadata": {},
   "outputs": [
    {
     "name": "stdout",
     "output_type": "stream",
     "text": [
      "Model: \"model\"\n",
      "_________________________________________________________________\n",
      "Layer (type)                 Output Shape              Param #   \n",
      "=================================================================\n",
      "input_1 (InputLayer)         [(None, 224, 224, 3)]     0         \n",
      "_________________________________________________________________\n",
      "block1_conv1 (Conv2D)        (None, 224, 224, 64)      1792      \n",
      "_________________________________________________________________\n",
      "block1_conv2 (Conv2D)        (None, 224, 224, 64)      36928     \n",
      "_________________________________________________________________\n",
      "block1_pool (MaxPooling2D)   (None, 112, 112, 64)      0         \n",
      "_________________________________________________________________\n",
      "block2_conv1 (Conv2D)        (None, 112, 112, 128)     73856     \n",
      "_________________________________________________________________\n",
      "block2_conv2 (Conv2D)        (None, 112, 112, 128)     147584    \n",
      "_________________________________________________________________\n",
      "block2_pool (MaxPooling2D)   (None, 56, 56, 128)       0         \n",
      "_________________________________________________________________\n",
      "block3_conv1 (Conv2D)        (None, 56, 56, 256)       295168    \n",
      "_________________________________________________________________\n",
      "block3_conv2 (Conv2D)        (None, 56, 56, 256)       590080    \n",
      "_________________________________________________________________\n",
      "block3_conv3 (Conv2D)        (None, 56, 56, 256)       590080    \n",
      "_________________________________________________________________\n",
      "block3_pool (MaxPooling2D)   (None, 28, 28, 256)       0         \n",
      "_________________________________________________________________\n",
      "block4_conv1 (Conv2D)        (None, 28, 28, 512)       1180160   \n",
      "_________________________________________________________________\n",
      "block4_conv2 (Conv2D)        (None, 28, 28, 512)       2359808   \n",
      "_________________________________________________________________\n",
      "block4_conv3 (Conv2D)        (None, 28, 28, 512)       2359808   \n",
      "_________________________________________________________________\n",
      "block4_pool (MaxPooling2D)   (None, 14, 14, 512)       0         \n",
      "_________________________________________________________________\n",
      "block5_conv1 (Conv2D)        (None, 14, 14, 512)       2359808   \n",
      "_________________________________________________________________\n",
      "block5_conv2 (Conv2D)        (None, 14, 14, 512)       2359808   \n",
      "_________________________________________________________________\n",
      "block5_conv3 (Conv2D)        (None, 14, 14, 512)       2359808   \n",
      "_________________________________________________________________\n",
      "block5_pool (MaxPooling2D)   (None, 7, 7, 512)         0         \n",
      "_________________________________________________________________\n",
      "flatten (Flatten)            (None, 25088)             0         \n",
      "_________________________________________________________________\n",
      "dense (Dense)                (None, 2)                 50178     \n",
      "=================================================================\n",
      "Total params: 14,764,866\n",
      "Trainable params: 50,178\n",
      "Non-trainable params: 14,714,688\n",
      "_________________________________________________________________\n"
     ]
    }
   ],
   "source": [
    " # view the structure of the model\n",
    "model.summary()\n"
   ]
  },
  {
   "cell_type": "code",
   "execution_count": 12,
   "metadata": {},
   "outputs": [],
   "source": [
    "# tell the model what cost and optimization method to use\n",
    "model.compile(\n",
    "  loss='categorical_crossentropy',\n",
    "  optimizer='adam',\n",
    "  metrics=['accuracy']\n",
    ")\n"
   ]
  },
  {
   "cell_type": "code",
   "execution_count": 13,
   "metadata": {},
   "outputs": [],
   "source": [
    "# Use the Image Data Generator to import the images from the dataset\n",
    "from tensorflow.keras.preprocessing.image import ImageDataGenerator\n",
    "\n",
    "train_datagen = ImageDataGenerator(rescale = 1./255,\n",
    "                                   shear_range = 0.2,\n",
    "                                   zoom_range = 0.2,\n",
    "                                   horizontal_flip = True)\n",
    "\n",
    "test_datagen = ImageDataGenerator(rescale = 1./255)"
   ]
  },
  {
   "cell_type": "code",
   "execution_count": 14,
   "metadata": {},
   "outputs": [
    {
     "name": "stdout",
     "output_type": "stream",
     "text": [
      "Found 1164 images belonging to 2 classes.\n"
     ]
    }
   ],
   "source": [
    "# Make sure you provide the same target size as initialied for the image size\n",
    "training_set = train_datagen.flow_from_directory('Datasets/train',\n",
    "                                                 target_size = (224, 224),\n",
    "                                                 batch_size = 32,\n",
    "                                                 class_mode = 'categorical')"
   ]
  },
  {
   "cell_type": "code",
   "execution_count": 15,
   "metadata": {},
   "outputs": [
    {
     "name": "stdout",
     "output_type": "stream",
     "text": [
      "Found 76 images belonging to 2 classes.\n"
     ]
    }
   ],
   "source": [
    "test_set = test_datagen.flow_from_directory('Datasets/test',\n",
    "                                            target_size = (224, 224),\n",
    "                                            batch_size = 32,\n",
    "                                            class_mode = 'categorical')"
   ]
  },
  {
   "cell_type": "code",
   "execution_count": 16,
   "metadata": {},
   "outputs": [
    {
     "name": "stderr",
     "output_type": "stream",
     "text": [
      "C:\\Users\\yoges\\anaconda3\\envs\\tensorflow2\\lib\\site-packages\\keras\\engine\\training.py:1972: UserWarning: `Model.fit_generator` is deprecated and will be removed in a future version. Please use `Model.fit`, which supports generators.\n",
      "  warnings.warn('`Model.fit_generator` is deprecated and '\n"
     ]
    },
    {
     "name": "stdout",
     "output_type": "stream",
     "text": [
      "Epoch 1/20\n",
      "37/37 [==============================] - 110s 3s/step - loss: 0.7844 - accuracy: 0.6838 - val_loss: 0.2481 - val_accuracy: 0.8684\n",
      "Epoch 2/20\n",
      "37/37 [==============================] - 135s 4s/step - loss: 0.3134 - accuracy: 0.8608 - val_loss: 0.2694 - val_accuracy: 0.8553\n",
      "Epoch 3/20\n",
      "37/37 [==============================] - 129s 3s/step - loss: 0.2100 - accuracy: 0.9141 - val_loss: 0.3727 - val_accuracy: 0.8816\n",
      "Epoch 4/20\n",
      "37/37 [==============================] - 146s 4s/step - loss: 0.1673 - accuracy: 0.9373 - val_loss: 0.3488 - val_accuracy: 0.8947\n",
      "Epoch 5/20\n",
      "37/37 [==============================] - 144s 4s/step - loss: 0.1220 - accuracy: 0.9605 - val_loss: 0.2595 - val_accuracy: 0.8816\n",
      "Epoch 6/20\n",
      "37/37 [==============================] - 133s 4s/step - loss: 0.1135 - accuracy: 0.9588 - val_loss: 0.3748 - val_accuracy: 0.8947\n",
      "Epoch 7/20\n",
      "37/37 [==============================] - 127s 3s/step - loss: 0.1029 - accuracy: 0.9691 - val_loss: 0.2750 - val_accuracy: 0.8553\n",
      "Epoch 8/20\n",
      "37/37 [==============================] - 116s 3s/step - loss: 0.0885 - accuracy: 0.9751 - val_loss: 0.4529 - val_accuracy: 0.8816\n",
      "Epoch 9/20\n",
      "37/37 [==============================] - 139s 4s/step - loss: 0.0773 - accuracy: 0.9785 - val_loss: 0.3123 - val_accuracy: 0.8947\n",
      "Epoch 10/20\n",
      "37/37 [==============================] - 108s 3s/step - loss: 0.0756 - accuracy: 0.9802 - val_loss: 0.2688 - val_accuracy: 0.9079\n",
      "Epoch 11/20\n",
      "37/37 [==============================] - 132s 4s/step - loss: 0.0710 - accuracy: 0.9811 - val_loss: 0.3098 - val_accuracy: 0.8816\n",
      "Epoch 12/20\n",
      "37/37 [==============================] - 138s 4s/step - loss: 0.0582 - accuracy: 0.9871 - val_loss: 0.3882 - val_accuracy: 0.8816\n",
      "Epoch 13/20\n",
      "37/37 [==============================] - 92s 2s/step - loss: 0.0427 - accuracy: 0.9931 - val_loss: 0.3050 - val_accuracy: 0.9079\n",
      "Epoch 14/20\n",
      "37/37 [==============================] - 92s 2s/step - loss: 0.0630 - accuracy: 0.9820 - val_loss: 0.3702 - val_accuracy: 0.8947\n",
      "Epoch 15/20\n",
      "37/37 [==============================] - 92s 2s/step - loss: 0.0626 - accuracy: 0.9768 - val_loss: 0.3338 - val_accuracy: 0.9079\n",
      "Epoch 16/20\n",
      "37/37 [==============================] - 96s 3s/step - loss: 0.0440 - accuracy: 0.9905 - val_loss: 0.3939 - val_accuracy: 0.9079\n",
      "Epoch 17/20\n",
      "37/37 [==============================] - 97s 3s/step - loss: 0.0378 - accuracy: 0.9948 - val_loss: 0.3744 - val_accuracy: 0.9079\n",
      "Epoch 18/20\n",
      "37/37 [==============================] - 99s 3s/step - loss: 0.0336 - accuracy: 0.9931 - val_loss: 0.3663 - val_accuracy: 0.9211\n",
      "Epoch 19/20\n",
      "37/37 [==============================] - 97s 3s/step - loss: 0.0268 - accuracy: 0.9991 - val_loss: 0.2569 - val_accuracy: 0.8947\n",
      "Epoch 20/20\n",
      "37/37 [==============================] - 93s 3s/step - loss: 0.0261 - accuracy: 0.9966 - val_loss: 0.3147 - val_accuracy: 0.9211\n"
     ]
    }
   ],
   "source": [
    "# fit the model\n",
    "# Run the cell. It will take some time to execute\n",
    "r = model.fit_generator(\n",
    "  training_set,\n",
    "  validation_data=test_set,\n",
    "  epochs=20,\n",
    "  steps_per_epoch=len(training_set),\n",
    "  validation_steps=len(test_set)\n",
    ")"
   ]
  },
  {
   "cell_type": "code",
   "execution_count": 17,
   "metadata": {},
   "outputs": [
    {
     "data": {
      "image/png": "[encoded data removed]",
      "text/plain": [
       "<Figure size 432x288 with 1 Axes>"
      ]
     },
     "metadata": {
      "needs_background": "light"
     },
     "output_type": "display_data"
    },
    {
     "data": {
      "image/png": "[encoded data removed]",
      "text/plain": [
       "<Figure size 432x288 with 1 Axes>"
      ]
     },
     "metadata": {
      "needs_background": "light"
     },
     "output_type": "display_data"
    },
    {
     "data": {
      "text/plain": [
       "<Figure size 432x288 with 0 Axes>"
      ]
     },
     "metadata": {},
     "output_type": "display_data"
    }
   ],
   "source": [
    "# plot the loss\n",
    "import matplotlib.pyplot as plt\n",
    "plt.plot(r.history['loss'], label='train loss')\n",
    "plt.plot(r.history['val_loss'], label='val loss')\n",
    "plt.legend()\n",
    "plt.show()\n",
    "plt.savefig('LossVal_loss')\n",
    "\n",
    "# plot the accuracy\n",
    "plt.plot(r.history['accuracy'], label='train acc')\n",
    "plt.plot(r.history['val_accuracy'], label='val acc')\n",
    "plt.legend()\n",
    "plt.show()\n",
    "plt.savefig('AccVal_acc')"
   ]
  },
  {
   "cell_type": "code",
   "execution_count": 18,
   "metadata": {},
   "outputs": [],
   "source": [
    "# save it as a h5 file\n",
    "\n",
    "\n",
    "from tensorflow.keras.models import load_model\n",
    "\n",
    "model.save('model_vgg16.h5')"
   ]
  },
  {
   "cell_type": "code",
   "execution_count": 19,
   "metadata": {},
   "outputs": [],
   "source": [
    "\n",
    "y_pred = model.predict(test_set)\n"
   ]
  },
  {
   "cell_type": "code",
   "execution_count": 20,
   "metadata": {},
   "outputs": [
    {
     "data": {
      "text/plain": [
       "array([[1.85148235e-06, 9.99998093e-01],\n",
       "       [1.11684322e-07, 9.99999881e-01],\n",
       "       [1.58831686e-01, 8.41168284e-01],\n",
       "       [7.97619402e-01, 2.02380568e-01],\n",
       "       [9.80864823e-01, 1.91351473e-02],\n",
       "       [9.97756779e-01, 2.24325131e-03],\n",
       "       [5.14113162e-06, 9.99994874e-01],\n",
       "       [7.09801093e-02, 9.29019868e-01],\n",
       "       [1.17606604e-02, 9.88239288e-01],\n",
       "       [9.91227210e-01, 8.77275411e-03],\n",
       "       [2.07399530e-03, 9.97925997e-01],\n",
       "       [9.97775972e-01, 2.22405768e-03],\n",
       "       [9.56756353e-01, 4.32436951e-02],\n",
       "       [4.19977795e-08, 1.00000000e+00],\n",
       "       [9.64237094e-01, 3.57629433e-02],\n",
       "       [2.87568067e-08, 1.00000000e+00],\n",
       "       [6.48597628e-02, 9.35140193e-01],\n",
       "       [1.31783420e-02, 9.86821711e-01],\n",
       "       [9.92464662e-01, 7.53537146e-03],\n",
       "       [9.99424219e-01, 5.75844548e-04],\n",
       "       [9.95397270e-01, 4.60277498e-03],\n",
       "       [9.99996185e-01, 3.82075223e-06],\n",
       "       [1.14533550e-03, 9.98854637e-01],\n",
       "       [8.32551450e-05, 9.99916792e-01],\n",
       "       [9.97168362e-01, 2.83159362e-03],\n",
       "       [9.99040425e-01, 9.59551195e-04],\n",
       "       [5.86596286e-07, 9.99999404e-01],\n",
       "       [3.37567559e-04, 9.99662399e-01],\n",
       "       [9.93636196e-09, 1.00000000e+00],\n",
       "       [3.03788576e-03, 9.96962130e-01],\n",
       "       [3.09943259e-01, 6.90056682e-01],\n",
       "       [3.06771278e-01, 6.93228722e-01],\n",
       "       [9.98252332e-01, 1.74767931e-03],\n",
       "       [7.43347337e-05, 9.99925613e-01],\n",
       "       [4.13803587e-04, 9.99586165e-01],\n",
       "       [9.99850988e-01, 1.48929903e-04],\n",
       "       [4.24321392e-04, 9.99575675e-01],\n",
       "       [1.28609631e-02, 9.87139046e-01],\n",
       "       [1.22354468e-04, 9.99877572e-01],\n",
       "       [9.69112515e-01, 3.08875013e-02],\n",
       "       [9.71737802e-01, 2.82622240e-02],\n",
       "       [9.99876618e-01, 1.23347985e-04],\n",
       "       [2.05903634e-01, 7.94096410e-01],\n",
       "       [3.60736578e-08, 1.00000000e+00],\n",
       "       [9.99997377e-01, 2.59223998e-06],\n",
       "       [1.25933116e-06, 9.99998689e-01],\n",
       "       [9.88242686e-01, 1.17573543e-02],\n",
       "       [3.91467035e-01, 6.08532906e-01],\n",
       "       [7.49645755e-04, 9.99250352e-01],\n",
       "       [9.88437235e-01, 1.15627367e-02],\n",
       "       [1.87147307e-04, 9.99812901e-01],\n",
       "       [9.95127797e-01, 4.87214467e-03],\n",
       "       [1.79767638e-04, 9.99820292e-01],\n",
       "       [1.18479118e-01, 8.81520867e-01],\n",
       "       [8.96304905e-01, 1.03695124e-01],\n",
       "       [3.01278140e-02, 9.69872177e-01],\n",
       "       [7.41748518e-05, 9.99925852e-01],\n",
       "       [9.98529196e-01, 1.47079665e-03],\n",
       "       [2.46121492e-02, 9.75387871e-01],\n",
       "       [9.99947667e-01, 5.23023737e-05],\n",
       "       [9.67904449e-01, 3.20955962e-02],\n",
       "       [9.96890485e-01, 3.10953637e-03],\n",
       "       [7.35300258e-02, 9.26470041e-01],\n",
       "       [9.99996424e-01, 3.54255326e-06],\n",
       "       [1.00000000e+00, 4.53345939e-09],\n",
       "       [7.08222166e-02, 9.29177821e-01],\n",
       "       [9.99435842e-01, 5.64139453e-04],\n",
       "       [1.46986134e-02, 9.85301435e-01],\n",
       "       [3.31463665e-03, 9.96685326e-01],\n",
       "       [6.84949040e-01, 3.15050930e-01],\n",
       "       [8.79280455e-03, 9.91207182e-01],\n",
       "       [9.76047933e-01, 2.39520278e-02],\n",
       "       [1.69397739e-03, 9.98306036e-01],\n",
       "       [6.54356360e-01, 3.45643610e-01],\n",
       "       [9.98239875e-01, 1.76016311e-03],\n",
       "       [9.63586217e-07, 9.99999046e-01]], dtype=float32)"
      ]
     },
     "execution_count": 20,
     "metadata": {},
     "output_type": "execute_result"
    }
   ],
   "source": [
    "y_pred"
   ]
  },
  {
   "cell_type": "code",
   "execution_count": 21,
   "metadata": {},
   "outputs": [],
   "source": [
    "import numpy as np\n",
    "y_pred = np.argmax(y_pred, axis=1)"
   ]
  },
  {
   "cell_type": "code",
   "execution_count": 22,
   "metadata": {},
   "outputs": [
    {
     "data": {
      "text/plain": [
       "array([1, 1, 1, 0, 0, 0, 1, 1, 1, 0, 1, 0, 0, 1, 0, 1, 1, 1, 0, 0, 0, 0,\n",
       "       1, 1, 0, 0, 1, 1, 1, 1, 1, 1, 0, 1, 1, 0, 1, 1, 1, 0, 0, 0, 1, 1,\n",
       "       0, 1, 0, 1, 1, 0, 1, 0, 1, 1, 0, 1, 1, 0, 1, 0, 0, 0, 1, 0, 0, 1,\n",
       "       0, 1, 1, 0, 1, 0, 1, 0, 0, 1], dtype=int64)"
      ]
     },
     "execution_count": 22,
     "metadata": {},
     "output_type": "execute_result"
    }
   ],
   "source": [
    "y_pred"
   ]
  },
  {
   "cell_type": "code",
   "execution_count": 23,
   "metadata": {},
   "outputs": [],
   "source": [
    "from tensorflow.keras.models import load_model\n",
    "from tensorflow.keras.preprocessing import image"
   ]
  },
  {
   "cell_type": "code",
   "execution_count": 25,
   "metadata": {},
   "outputs": [],
   "source": [
    "model=load_model('model_vgg16.h5')"
   ]
  },
  {
   "cell_type": "code",
   "execution_count": 26,
   "metadata": {},
   "outputs": [
    {
     "ename": "NameError",
     "evalue": "name 'img_data' is not defined",
     "output_type": "error",
     "traceback": [
      "\u001b[1;31m---------------------------------------------------------------------------\u001b[0m",
      "\u001b[1;31mNameError\u001b[0m                                 Traceback (most recent call last)",
      "\u001b[1;32m<ipython-input-26-7b8301fa3f5c>\u001b[0m in \u001b[0;36m<module>\u001b[1;34m\u001b[0m\n\u001b[1;32m----> 1\u001b[1;33m \u001b[0mimg_data\u001b[0m\u001b[1;33m\u001b[0m\u001b[1;33m\u001b[0m\u001b[0m\n\u001b[0m",
      "\u001b[1;31mNameError\u001b[0m: name 'img_data' is not defined"
     ]
    }
   ],
   "source": [
    "img_data"
   ]
  },
  {
   "cell_type": "code",
   "execution_count": 29,
   "metadata": {},
   "outputs": [],
   "source": [
    "img=image.load_img('Datasets/test/cats/cat.4259.jpg',target_size=(224,224))\n",
    "\n"
   ]
  },
  {
   "cell_type": "code",
   "execution_count": 30,
   "metadata": {},
   "outputs": [
    {
     "data": {
      "text/plain": [
       "array([[[138., 150., 128.],\n",
       "        [137., 149., 127.],\n",
       "        [139., 151., 129.],\n",
       "        ...,\n",
       "        [ 92.,  97.,  91.],\n",
       "        [ 96.,  98.,  93.],\n",
       "        [ 96.,  98.,  93.]],\n",
       "\n",
       "       [[137., 149., 127.],\n",
       "        [141., 153., 131.],\n",
       "        [141., 153., 131.],\n",
       "        ...,\n",
       "        [ 95., 100.,  94.],\n",
       "        [ 94.,  96.,  91.],\n",
       "        [ 94.,  96.,  91.]],\n",
       "\n",
       "       [[139., 151., 129.],\n",
       "        [141., 153., 131.],\n",
       "        [141., 153., 131.],\n",
       "        ...,\n",
       "        [ 95., 100.,  94.],\n",
       "        [ 95.,  97.,  92.],\n",
       "        [ 95.,  97.,  92.]],\n",
       "\n",
       "       ...,\n",
       "\n",
       "       [[158., 170., 182.],\n",
       "        [171., 183., 195.],\n",
       "        [166., 178., 190.],\n",
       "        ...,\n",
       "        [ 99., 103.,  88.],\n",
       "        [106., 100.,  84.],\n",
       "        [109., 100.,  85.]],\n",
       "\n",
       "       [[165., 177., 191.],\n",
       "        [167., 179., 193.],\n",
       "        [159., 171., 185.],\n",
       "        ...,\n",
       "        [110., 111.,  93.],\n",
       "        [120., 111.,  94.],\n",
       "        [112., 101.,  83.]],\n",
       "\n",
       "       [[164., 176., 188.],\n",
       "        [162., 174., 186.],\n",
       "        [168., 180., 192.],\n",
       "        ...,\n",
       "        [114., 111.,  94.],\n",
       "        [120., 111.,  94.],\n",
       "        [112., 101.,  83.]]], dtype=float32)"
      ]
     },
     "execution_count": 30,
     "metadata": {},
     "output_type": "execute_result"
    }
   ],
   "source": [
    "x=image.img_to_array(img)\n",
    "x"
   ]
  },
  {
   "cell_type": "code",
   "execution_count": 31,
   "metadata": {},
   "outputs": [
    {
     "data": {
      "text/plain": [
       "(224, 224, 3)"
      ]
     },
     "execution_count": 31,
     "metadata": {},
     "output_type": "execute_result"
    }
   ],
   "source": [
    "x.shape"
   ]
  },
  {
   "cell_type": "code",
   "execution_count": 32,
   "metadata": {},
   "outputs": [],
   "source": [
    "x=x/255"
   ]
  },
  {
   "cell_type": "code",
   "execution_count": 33,
   "metadata": {},
   "outputs": [
    {
     "data": {
      "text/plain": [
       "(1, 224, 224, 3)"
      ]
     },
     "execution_count": 33,
     "metadata": {},
     "output_type": "execute_result"
    }
   ],
   "source": [
    "x=np.expand_dims(x,axis=0)\n",
    "img_data=preprocess_input(x)\n",
    "img_data.shape"
   ]
  },
  {
   "cell_type": "code",
   "execution_count": 34,
   "metadata": {},
   "outputs": [
    {
     "data": {
      "text/plain": [
       "array([[0.9886481 , 0.01135193]], dtype=float32)"
      ]
     },
     "execution_count": 34,
     "metadata": {},
     "output_type": "execute_result"
    }
   ],
   "source": [
    "model.predict(img_data)"
   ]
  },
  {
   "cell_type": "code",
   "execution_count": 35,
   "metadata": {},
   "outputs": [],
   "source": [
    "a=np.argmax(model.predict(img_data), axis=1)"
   ]
  },
  {
   "cell_type": "code",
   "execution_count": 36,
   "metadata": {},
   "outputs": [
    {
     "data": {
      "text/plain": [
       "array([False])"
      ]
     },
     "execution_count": 36,
     "metadata": {},
     "output_type": "execute_result"
    }
   ],
   "source": [
    "a==1"
   ]
  },
  {
   "cell_type": "code",
   "execution_count": null,
   "metadata": {},
   "outputs": [],
   "source": []
  },
  {
   "cell_type": "code",
   "execution_count": null,
   "metadata": {},
   "outputs": [],
   "source": []
  }
 ],
 "metadata": {
  "kernelspec": {
   "display_name": "Python 3",
   "language": "python",
   "name": "python3"
  },
  "language_info": {
   "codemirror_mode": {
    "name": "ipython",
    "version": 3
   },
   "file_extension": ".py",
   "mimetype": "text/x-python",
   "name": "python",
   "nbconvert_exporter": "python",
   "pygments_lexer": "ipython3",
   "version": "3.6.9"
  }
 },
 "nbformat": 4,
 "nbformat_minor": 2
}

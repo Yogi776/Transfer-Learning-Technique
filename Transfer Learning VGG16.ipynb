{
 "cells": [
  {
   "cell_type": "markdown",
   "metadata": {},
   "source": [
    "## Transfer Learning VGG 16 and VGG 19 using Keras"
   ]
  },
  {
   "cell_type": "markdown",
   "metadata": {},
   "source": [
    "Please download the dataset from the below url"
   ]
  },
  {
   "cell_type": "code",
   "execution_count": 1,
   "metadata": {},
   "outputs": [],
   "source": [
    "from tensorflow.compat.v1 import ConfigProto\n",
    "from tensorflow.compat.v1 import InteractiveSession\n",
    "\n",
    "config = ConfigProto()\n",
    "config.gpu_options.per_process_gpu_memory_fraction = 0.8\n",
    "config.gpu_options.allow_growth = True\n",
    "session = InteractiveSession(config=config)"
   ]
  },
  {
   "cell_type": "code",
   "execution_count": 2,
   "metadata": {},
   "outputs": [
    {
     "name": "stdout",
     "output_type": "stream",
     "text": [
      "Please install GPU version of TF\n"
     ]
    }
   ],
   "source": [
    "import tensorflow as tf \n",
    "\n",
    "if tf.test.gpu_device_name(): \n",
    "    \n",
    "\n",
    "    print('Default GPU Device:{}'.format(tf.test.gpu_device_name()))\n",
    "\n",
    "else:\n",
    "\n",
    "    print(\"Please install GPU version of TF\")"
   ]
  },
  {
   "cell_type": "code",
   "execution_count": 3,
   "metadata": {},
   "outputs": [
    {
     "data": {
      "text/plain": [
       "''"
      ]
     },
     "execution_count": 3,
     "metadata": {},
     "output_type": "execute_result"
    }
   ],
   "source": [
    "tf.test.gpu_device_name()"
   ]
  },
  {
   "cell_type": "code",
   "execution_count": 4,
   "metadata": {},
   "outputs": [],
   "source": [
    "# import the libraries as shown below\n",
    "\n",
    "from tensorflow.keras.layers import Input, Lambda, Dense, Flatten\n",
    "from tensorflow.keras.models import Model\n",
    "from tensorflow.keras.applications.vgg16 import VGG16\n",
    "from tensorflow.keras.applications.vgg16 import preprocess_input\n",
    "from tensorflow.keras.preprocessing import image\n",
    "from tensorflow.keras.preprocessing.image import ImageDataGenerator,load_img\n",
    "from tensorflow.keras.models import Sequential\n",
    "import numpy as np\n",
    "from glob import glob\n"
   ]
  },
  {
   "cell_type": "code",
   "execution_count": 5,
   "metadata": {},
   "outputs": [],
   "source": [
    "# re-size all the images to this\n",
    "IMAGE_SIZE = [224, 224]\n",
    "\n",
    "train_path = 'Datasets/train'\n",
    "valid_path = 'Datasets/test'\n"
   ]
  },
  {
   "cell_type": "code",
   "execution_count": 6,
   "metadata": {},
   "outputs": [],
   "source": [
    "# Import the Vgg 16 library as shown below and add preprocessing layer to the front of VGG\n",
    "# Here we will be using imagenet weights\n",
    "\n",
    "vgg16 = VGG16(input_shape=IMAGE_SIZE + [3], weights='imagenet', include_top=False)\n",
    "\n",
    "\n"
   ]
  },
  {
   "cell_type": "code",
   "execution_count": 7,
   "metadata": {},
   "outputs": [],
   "source": [
    "# don't train existing weights\n",
    "for layer in vgg16.layers:\n",
    "    layer.trainable = False"
   ]
  },
  {
   "cell_type": "code",
   "execution_count": 8,
   "metadata": {},
   "outputs": [],
   "source": [
    "  # useful for getting number of output classes\n",
    "folders = glob('Datasets/train/*')"
   ]
  },
  {
   "cell_type": "code",
   "execution_count": 9,
   "metadata": {},
   "outputs": [],
   "source": [
    "# our layers - you can add more if you want\n",
    "x = Flatten()(vgg16.output)"
   ]
  },
  {
   "cell_type": "code",
   "execution_count": 10,
   "metadata": {},
   "outputs": [],
   "source": [
    "prediction = Dense(len(folders), activation='softmax')(x)\n",
    "\n",
    "# create a model object\n",
    "model = Model(inputs=vgg16.input, outputs=prediction)"
   ]
  },
  {
   "cell_type": "code",
   "execution_count": 11,
   "metadata": {},
   "outputs": [
    {
     "name": "stdout",
     "output_type": "stream",
     "text": [
      "Model: \"model\"\n",
      "_________________________________________________________________\n",
      "Layer (type)                 Output Shape              Param #   \n",
      "=================================================================\n",
      "input_1 (InputLayer)         [(None, 224, 224, 3)]     0         \n",
      "_________________________________________________________________\n",
      "block1_conv1 (Conv2D)        (None, 224, 224, 64)      1792      \n",
      "_________________________________________________________________\n",
      "block1_conv2 (Conv2D)        (None, 224, 224, 64)      36928     \n",
      "_________________________________________________________________\n",
      "block1_pool (MaxPooling2D)   (None, 112, 112, 64)      0         \n",
      "_________________________________________________________________\n",
      "block2_conv1 (Conv2D)        (None, 112, 112, 128)     73856     \n",
      "_________________________________________________________________\n",
      "block2_conv2 (Conv2D)        (None, 112, 112, 128)     147584    \n",
      "_________________________________________________________________\n",
      "block2_pool (MaxPooling2D)   (None, 56, 56, 128)       0         \n",
      "_________________________________________________________________\n",
      "block3_conv1 (Conv2D)        (None, 56, 56, 256)       295168    \n",
      "_________________________________________________________________\n",
      "block3_conv2 (Conv2D)        (None, 56, 56, 256)       590080    \n",
      "_________________________________________________________________\n",
      "block3_conv3 (Conv2D)        (None, 56, 56, 256)       590080    \n",
      "_________________________________________________________________\n",
      "block3_pool (MaxPooling2D)   (None, 28, 28, 256)       0         \n",
      "_________________________________________________________________\n",
      "block4_conv1 (Conv2D)        (None, 28, 28, 512)       1180160   \n",
      "_________________________________________________________________\n",
      "block4_conv2 (Conv2D)        (None, 28, 28, 512)       2359808   \n",
      "_________________________________________________________________\n",
      "block4_conv3 (Conv2D)        (None, 28, 28, 512)       2359808   \n",
      "_________________________________________________________________\n",
      "block4_pool (MaxPooling2D)   (None, 14, 14, 512)       0         \n",
      "_________________________________________________________________\n",
      "block5_conv1 (Conv2D)        (None, 14, 14, 512)       2359808   \n",
      "_________________________________________________________________\n",
      "block5_conv2 (Conv2D)        (None, 14, 14, 512)       2359808   \n",
      "_________________________________________________________________\n",
      "block5_conv3 (Conv2D)        (None, 14, 14, 512)       2359808   \n",
      "_________________________________________________________________\n",
      "block5_pool (MaxPooling2D)   (None, 7, 7, 512)         0         \n",
      "_________________________________________________________________\n",
      "flatten (Flatten)            (None, 25088)             0         \n",
      "_________________________________________________________________\n",
      "dense (Dense)                (None, 2)                 50178     \n",
      "=================================================================\n",
      "Total params: 14,764,866\n",
      "Trainable params: 50,178\n",
      "Non-trainable params: 14,714,688\n",
      "_________________________________________________________________\n"
     ]
    }
   ],
   "source": [
    " # view the structure of the model\n",
    "model.summary()\n"
   ]
  },
  {
   "cell_type": "code",
   "execution_count": 12,
   "metadata": {},
   "outputs": [],
   "source": [
    "# tell the model what cost and optimization method to use\n",
    "model.compile(\n",
    "  loss='categorical_crossentropy',\n",
    "  optimizer='adam',\n",
    "  metrics=['accuracy']\n",
    ")\n"
   ]
  },
  {
   "cell_type": "code",
   "execution_count": 13,
   "metadata": {},
   "outputs": [],
   "source": [
    "# Use the Image Data Generator to import the images from the dataset\n",
    "from tensorflow.keras.preprocessing.image import ImageDataGenerator\n",
    "\n",
    "train_datagen = ImageDataGenerator(rescale = 1./255,\n",
    "                                   shear_range = 0.2,\n",
    "                                   zoom_range = 0.2,\n",
    "                                   horizontal_flip = True)\n",
    "\n",
    "test_datagen = ImageDataGenerator(rescale = 1./255)"
   ]
  },
  {
   "cell_type": "code",
   "execution_count": 14,
   "metadata": {},
   "outputs": [
    {
     "name": "stdout",
     "output_type": "stream",
     "text": [
      "Found 1164 images belonging to 2 classes.\n"
     ]
    }
   ],
   "source": [
    "# Make sure you provide the same target size as initialied for the image size\n",
    "training_set = train_datagen.flow_from_directory('Datasets/train',\n",
    "                                                 target_size = (224, 224),\n",
    "                                                 batch_size = 32,\n",
    "                                                 class_mode = 'categorical')"
   ]
  },
  {
   "cell_type": "code",
   "execution_count": 15,
   "metadata": {},
   "outputs": [
    {
     "name": "stdout",
     "output_type": "stream",
     "text": [
      "Found 76 images belonging to 2 classes.\n"
     ]
    }
   ],
   "source": [
    "test_set = test_datagen.flow_from_directory('Datasets/test',\n",
    "                                            target_size = (224, 224),\n",
    "                                            batch_size = 32,\n",
    "                                            class_mode = 'categorical')"
   ]
  },
  {
   "cell_type": "code",
   "execution_count": 16,
   "metadata": {},
   "outputs": [
    {
     "name": "stderr",
     "output_type": "stream",
     "text": [
      "C:\\Users\\yoges\\anaconda3\\envs\\tensorflow2\\lib\\site-packages\\keras\\engine\\training.py:1972: UserWarning: `Model.fit_generator` is deprecated and will be removed in a future version. Please use `Model.fit`, which supports generators.\n",
      "  warnings.warn('`Model.fit_generator` is deprecated and '\n"
     ]
    },
    {
     "name": "stdout",
     "output_type": "stream",
     "text": [
      "Epoch 1/50\n",
      "37/37 [==============================] - 87s 2s/step - loss: 0.5608 - accuracy: 0.7663 - val_loss: 0.4826 - val_accuracy: 0.7895\n",
      "Epoch 2/50\n",
      "37/37 [==============================] - 85s 2s/step - loss: 0.2479 - accuracy: 0.8892 - val_loss: 0.2690 - val_accuracy: 0.9079\n",
      "Epoch 3/50\n",
      "37/37 [==============================] - 84s 2s/step - loss: 0.1782 - accuracy: 0.9270 - val_loss: 0.2580 - val_accuracy: 0.8947\n",
      "Epoch 4/50\n",
      "37/37 [==============================] - 91s 2s/step - loss: 0.1462 - accuracy: 0.9485 - val_loss: 0.2404 - val_accuracy: 0.9079\n",
      "Epoch 5/50\n",
      "37/37 [==============================] - 85s 2s/step - loss: 0.1486 - accuracy: 0.9399 - val_loss: 0.2943 - val_accuracy: 0.9079\n",
      "Epoch 6/50\n",
      "37/37 [==============================] - 90s 2s/step - loss: 0.1201 - accuracy: 0.9588 - val_loss: 0.2718 - val_accuracy: 0.9079\n",
      "Epoch 7/50\n",
      "37/37 [==============================] - 86s 2s/step - loss: 0.0842 - accuracy: 0.9708 - val_loss: 0.3761 - val_accuracy: 0.8816\n",
      "Epoch 8/50\n",
      "37/37 [==============================] - 86s 2s/step - loss: 0.0746 - accuracy: 0.9759 - val_loss: 0.2848 - val_accuracy: 0.9211\n",
      "Epoch 9/50\n",
      "37/37 [==============================] - 85s 2s/step - loss: 0.0782 - accuracy: 0.9734 - val_loss: 0.3327 - val_accuracy: 0.9342\n",
      "Epoch 10/50\n",
      "37/37 [==============================] - 84s 2s/step - loss: 0.0625 - accuracy: 0.9820 - val_loss: 0.2949 - val_accuracy: 0.9211\n",
      "Epoch 11/50\n",
      "37/37 [==============================] - 84s 2s/step - loss: 0.0499 - accuracy: 0.9897 - val_loss: 0.2437 - val_accuracy: 0.8684\n",
      "Epoch 12/50\n",
      "37/37 [==============================] - 92s 2s/step - loss: 0.1044 - accuracy: 0.9527 - val_loss: 0.3836 - val_accuracy: 0.9079\n",
      "Epoch 13/50\n",
      "37/37 [==============================] - 93s 3s/step - loss: 0.0541 - accuracy: 0.9863 - val_loss: 0.3229 - val_accuracy: 0.9211\n",
      "Epoch 14/50\n",
      "37/37 [==============================] - 85s 2s/step - loss: 0.0363 - accuracy: 0.9931 - val_loss: 0.4260 - val_accuracy: 0.9079\n",
      "Epoch 15/50\n",
      "37/37 [==============================] - 85s 2s/step - loss: 0.0389 - accuracy: 0.9940 - val_loss: 0.3171 - val_accuracy: 0.9211\n",
      "Epoch 16/50\n",
      "37/37 [==============================] - 84s 2s/step - loss: 0.0281 - accuracy: 0.9966 - val_loss: 0.4192 - val_accuracy: 0.9211\n",
      "Epoch 17/50\n",
      "37/37 [==============================] - 84s 2s/step - loss: 0.0349 - accuracy: 0.9931 - val_loss: 0.2581 - val_accuracy: 0.9079\n",
      "Epoch 18/50\n",
      "37/37 [==============================] - 83s 2s/step - loss: 0.0339 - accuracy: 0.9897 - val_loss: 0.2575 - val_accuracy: 0.9211\n",
      "Epoch 19/50\n",
      "37/37 [==============================] - 83s 2s/step - loss: 0.0279 - accuracy: 0.9948 - val_loss: 0.2555 - val_accuracy: 0.9211\n",
      "Epoch 20/50\n",
      "37/37 [==============================] - 84s 2s/step - loss: 0.0252 - accuracy: 0.9974 - val_loss: 0.2731 - val_accuracy: 0.9211\n",
      "Epoch 21/50\n",
      "37/37 [==============================] - 84s 2s/step - loss: 0.0279 - accuracy: 0.9940 - val_loss: 0.3833 - val_accuracy: 0.9211\n",
      "Epoch 22/50\n",
      "37/37 [==============================] - 83s 2s/step - loss: 0.0212 - accuracy: 0.9974 - val_loss: 0.2991 - val_accuracy: 0.9211\n",
      "Epoch 23/50\n",
      "37/37 [==============================] - 86s 2s/step - loss: 0.0251 - accuracy: 0.9957 - val_loss: 0.2615 - val_accuracy: 0.9079\n",
      "Epoch 24/50\n",
      "37/37 [==============================] - 90s 2s/step - loss: 0.0174 - accuracy: 0.9983 - val_loss: 0.3356 - val_accuracy: 0.9211\n",
      "Epoch 25/50\n",
      "37/37 [==============================] - 93s 3s/step - loss: 0.0250 - accuracy: 0.9923 - val_loss: 0.2865 - val_accuracy: 0.9079\n",
      "Epoch 26/50\n",
      "37/37 [==============================] - 92s 2s/step - loss: 0.0190 - accuracy: 0.9957 - val_loss: 0.4132 - val_accuracy: 0.9211\n",
      "Epoch 27/50\n",
      "37/37 [==============================] - 94s 3s/step - loss: 0.0166 - accuracy: 0.9983 - val_loss: 0.4712 - val_accuracy: 0.9211\n",
      "Epoch 28/50\n",
      "37/37 [==============================] - 92s 2s/step - loss: 0.0125 - accuracy: 0.9991 - val_loss: 0.4042 - val_accuracy: 0.9079\n",
      "Epoch 29/50\n",
      "37/37 [==============================] - 91s 2s/step - loss: 0.0152 - accuracy: 0.9974 - val_loss: 0.5222 - val_accuracy: 0.9079\n",
      "Epoch 30/50\n",
      "37/37 [==============================] - 92s 2s/step - loss: 0.0121 - accuracy: 0.9983 - val_loss: 0.4030 - val_accuracy: 0.9079\n",
      "Epoch 31/50\n",
      "37/37 [==============================] - 92s 2s/step - loss: 0.0113 - accuracy: 0.9991 - val_loss: 0.3968 - val_accuracy: 0.9079\n",
      "Epoch 32/50\n",
      "37/37 [==============================] - 91s 2s/step - loss: 0.0199 - accuracy: 0.9940 - val_loss: 0.6586 - val_accuracy: 0.8684\n",
      "Epoch 33/50\n",
      "37/37 [==============================] - 91s 2s/step - loss: 0.0138 - accuracy: 0.9966 - val_loss: 0.3577 - val_accuracy: 0.9342\n",
      "Epoch 34/50\n",
      "37/37 [==============================] - 90s 2s/step - loss: 0.0132 - accuracy: 0.9991 - val_loss: 0.3070 - val_accuracy: 0.9211\n",
      "Epoch 35/50\n",
      "37/37 [==============================] - 90s 2s/step - loss: 0.0096 - accuracy: 0.9991 - val_loss: 0.3190 - val_accuracy: 0.9211\n",
      "Epoch 36/50\n",
      "37/37 [==============================] - 90s 2s/step - loss: 0.0145 - accuracy: 0.9983 - val_loss: 0.3740 - val_accuracy: 0.9211\n",
      "Epoch 37/50\n",
      "37/37 [==============================] - 90s 2s/step - loss: 0.0091 - accuracy: 1.0000 - val_loss: 0.4542 - val_accuracy: 0.9342\n",
      "Epoch 38/50\n",
      "37/37 [==============================] - 85s 2s/step - loss: 0.0099 - accuracy: 0.9991 - val_loss: 0.4141 - val_accuracy: 0.9079\n",
      "Epoch 39/50\n",
      "37/37 [==============================] - 84s 2s/step - loss: 0.0086 - accuracy: 1.0000 - val_loss: 0.4296 - val_accuracy: 0.9211\n",
      "Epoch 40/50\n",
      "37/37 [==============================] - 85s 2s/step - loss: 0.0072 - accuracy: 0.9991 - val_loss: 0.5342 - val_accuracy: 0.9079\n",
      "Epoch 41/50\n",
      "37/37 [==============================] - 89s 2s/step - loss: 0.0076 - accuracy: 1.0000 - val_loss: 0.4200 - val_accuracy: 0.9211\n",
      "Epoch 42/50\n",
      "37/37 [==============================] - 84s 2s/step - loss: 0.0098 - accuracy: 0.9974 - val_loss: 0.4566 - val_accuracy: 0.9211\n",
      "Epoch 43/50\n",
      "37/37 [==============================] - 90s 2s/step - loss: 0.0081 - accuracy: 0.9991 - val_loss: 0.4680 - val_accuracy: 0.9079\n",
      "Epoch 44/50\n",
      "37/37 [==============================] - 90s 2s/step - loss: 0.0073 - accuracy: 0.9991 - val_loss: 0.5616 - val_accuracy: 0.8947\n",
      "Epoch 45/50\n",
      "37/37 [==============================] - 90s 2s/step - loss: 0.0085 - accuracy: 0.9991 - val_loss: 0.4245 - val_accuracy: 0.9211\n",
      "Epoch 46/50\n",
      "37/37 [==============================] - 91s 2s/step - loss: 0.0084 - accuracy: 1.0000 - val_loss: 0.4974 - val_accuracy: 0.9079\n",
      "Epoch 47/50\n",
      "37/37 [==============================] - 90s 2s/step - loss: 0.0069 - accuracy: 0.9991 - val_loss: 0.5870 - val_accuracy: 0.8816\n",
      "Epoch 48/50\n",
      "37/37 [==============================] - 90s 2s/step - loss: 0.0071 - accuracy: 1.0000 - val_loss: 0.5893 - val_accuracy: 0.8947\n",
      "Epoch 49/50\n",
      "37/37 [==============================] - 84s 2s/step - loss: 0.0059 - accuracy: 0.9991 - val_loss: 0.4946 - val_accuracy: 0.9211\n",
      "Epoch 50/50\n",
      "37/37 [==============================] - 83s 2s/step - loss: 0.0058 - accuracy: 1.0000 - val_loss: 0.4405 - val_accuracy: 0.9079\n"
     ]
    }
   ],
   "source": [
    "# fit the model\n",
    "# Run the cell. It will take some time to execute\n",
    "r = model.fit_generator(\n",
    "  training_set,\n",
    "  validation_data=test_set,\n",
    "  epochs=50,\n",
    "  steps_per_epoch=len(training_set),\n",
    "  validation_steps=len(test_set)\n",
    ")"
   ]
  },
  {
   "cell_type": "code",
   "execution_count": 17,
   "metadata": {},
   "outputs": [
    {
     "data": {
      "image/png": "[encoded data removed]",
      "text/plain": [
       "<Figure size 432x288 with 1 Axes>"
      ]
     },
     "metadata": {
      "needs_background": "light"
     },
     "output_type": "display_data"
    },
    {
     "data": {
      "image/png": "[encoded data removed]",
      "text/plain": [
       "<Figure size 432x288 with 1 Axes>"
      ]
     },
     "metadata": {
      "needs_background": "light"
     },
     "output_type": "display_data"
    },
    {
     "data": {
      "text/plain": [
       "<Figure size 432x288 with 0 Axes>"
      ]
     },
     "metadata": {},
     "output_type": "display_data"
    }
   ],
   "source": [
    "# plot the loss\n",
    "import matplotlib.pyplot as plt\n",
    "plt.plot(r.history['loss'], label='train loss')\n",
    "plt.plot(r.history['val_loss'], label='val loss')\n",
    "plt.legend()\n",
    "plt.show()\n",
    "plt.savefig('LossVal_loss')\n",
    "\n",
    "# plot the accuracy\n",
    "plt.plot(r.history['accuracy'], label='train acc')\n",
    "plt.plot(r.history['val_accuracy'], label='val acc')\n",
    "plt.legend()\n",
    "plt.show()\n",
    "plt.savefig('AccVal_acc')"
   ]
  },
  {
   "cell_type": "code",
   "execution_count": 18,
   "metadata": {},
   "outputs": [],
   "source": [
    "# save it as a h5 file\n",
    "\n",
    "\n",
    "from tensorflow.keras.models import load_model\n",
    "\n",
    "model.save('model_vgg16.h5')"
   ]
  },
  {
   "cell_type": "code",
   "execution_count": 19,
   "metadata": {},
   "outputs": [],
   "source": [
    "\n",
    "y_pred = model.predict(test_set)\n"
   ]
  },
  {
   "cell_type": "code",
   "execution_count": 20,
   "metadata": {},
   "outputs": [
    {
     "data": {
      "text/plain": [
       "array([[5.89027477e-05, 9.99941111e-01],\n",
       "       [7.54347411e-07, 9.99999285e-01],\n",
       "       [9.99999881e-01, 6.24906278e-08],\n",
       "       [1.46681152e-04, 9.99853253e-01],\n",
       "       [9.99762714e-01, 2.37287299e-04],\n",
       "       [9.64790702e-01, 3.52093317e-02],\n",
       "       [5.11061907e-01, 4.88938123e-01],\n",
       "       [1.00000000e+00, 1.42849093e-08],\n",
       "       [2.74053991e-01, 7.25946009e-01],\n",
       "       [2.79917028e-02, 9.72008348e-01],\n",
       "       [4.09395229e-09, 1.00000000e+00],\n",
       "       [2.23681991e-06, 9.99997735e-01],\n",
       "       [9.98632014e-01, 1.36795151e-03],\n",
       "       [3.13966053e-09, 1.00000000e+00],\n",
       "       [9.58281336e-04, 9.99041736e-01],\n",
       "       [4.50680405e-01, 5.49319625e-01],\n",
       "       [9.81640160e-01, 1.83598567e-02],\n",
       "       [1.85714306e-08, 1.00000000e+00],\n",
       "       [9.98235583e-01, 1.76435802e-03],\n",
       "       [7.72786915e-01, 2.27213055e-01],\n",
       "       [9.94584501e-01, 5.41550992e-03],\n",
       "       [2.75633482e-07, 9.99999762e-01],\n",
       "       [3.21416088e-11, 1.00000000e+00],\n",
       "       [2.25941471e-06, 9.99997735e-01],\n",
       "       [8.06034803e-02, 9.19396520e-01],\n",
       "       [1.43659190e-06, 9.99998569e-01],\n",
       "       [9.99664426e-01, 3.35531135e-04],\n",
       "       [4.32878453e-03, 9.95671272e-01],\n",
       "       [2.66494093e-09, 1.00000000e+00],\n",
       "       [1.71903142e-04, 9.99828100e-01],\n",
       "       [1.77664653e-04, 9.99822319e-01],\n",
       "       [6.36559367e-01, 3.63440633e-01],\n",
       "       [9.64485481e-03, 9.90355134e-01],\n",
       "       [9.99999881e-01, 1.65183934e-07],\n",
       "       [4.22459268e-13, 1.00000000e+00],\n",
       "       [1.00000000e+00, 2.18189724e-12],\n",
       "       [9.94938850e-01, 5.06119151e-03],\n",
       "       [1.97080990e-05, 9.99980330e-01],\n",
       "       [9.99995232e-01, 4.74223179e-06],\n",
       "       [1.08814798e-02, 9.89118457e-01],\n",
       "       [2.34750987e-05, 9.99976516e-01],\n",
       "       [9.69190933e-06, 9.99990344e-01],\n",
       "       [9.99743521e-01, 2.56515370e-04],\n",
       "       [2.95813777e-03, 9.97041881e-01],\n",
       "       [9.99910712e-01, 8.92681710e-05],\n",
       "       [4.67809441e-04, 9.99532223e-01],\n",
       "       [3.72252202e-08, 1.00000000e+00],\n",
       "       [9.99739945e-01, 2.60081521e-04],\n",
       "       [1.24653016e-05, 9.99987483e-01],\n",
       "       [9.99978781e-01, 2.11931729e-05],\n",
       "       [2.86617875e-03, 9.97133851e-01],\n",
       "       [9.92430151e-01, 7.56981503e-03],\n",
       "       [1.06210055e-05, 9.99989390e-01],\n",
       "       [6.62169419e-03, 9.93378341e-01],\n",
       "       [2.39560031e-03, 9.97604430e-01],\n",
       "       [1.07393619e-12, 1.00000000e+00],\n",
       "       [9.99951839e-01, 4.81089737e-05],\n",
       "       [9.99003708e-01, 9.96327261e-04],\n",
       "       [9.97851014e-01, 2.14902498e-03],\n",
       "       [9.83463228e-01, 1.65367275e-02],\n",
       "       [9.99993682e-01, 6.32641331e-06],\n",
       "       [7.02146804e-12, 1.00000000e+00],\n",
       "       [9.24957931e-01, 7.50421211e-02],\n",
       "       [9.99838829e-01, 1.61181772e-04],\n",
       "       [9.49168861e-01, 5.08311801e-02],\n",
       "       [1.00000000e+00, 5.44887691e-08],\n",
       "       [1.30439196e-06, 9.99998689e-01],\n",
       "       [8.01139511e-03, 9.91988599e-01],\n",
       "       [8.28345492e-03, 9.91716564e-01],\n",
       "       [9.47383285e-01, 5.26166819e-02],\n",
       "       [9.99988556e-01, 1.14765799e-05],\n",
       "       [3.41534623e-08, 1.00000000e+00],\n",
       "       [8.19977149e-02, 9.18002307e-01],\n",
       "       [9.99765217e-01, 2.34814346e-04],\n",
       "       [9.99276698e-01, 7.23302248e-04],\n",
       "       [9.97452915e-01, 2.54706922e-03]], dtype=float32)"
      ]
     },
     "execution_count": 20,
     "metadata": {},
     "output_type": "execute_result"
    }
   ],
   "source": [
    "y_pred"
   ]
  },
  {
   "cell_type": "code",
   "execution_count": 21,
   "metadata": {},
   "outputs": [],
   "source": [
    "import numpy as np\n",
    "y_pred = np.argmax(y_pred, axis=1)"
   ]
  },
  {
   "cell_type": "code",
   "execution_count": 22,
   "metadata": {},
   "outputs": [
    {
     "data": {
      "text/plain": [
       "array([1, 1, 0, 1, 0, 0, 0, 0, 1, 1, 1, 1, 0, 1, 1, 1, 0, 1, 0, 0, 0, 1,\n",
       "       1, 1, 1, 1, 0, 1, 1, 1, 1, 0, 1, 0, 1, 0, 0, 1, 0, 1, 1, 1, 0, 1,\n",
       "       0, 1, 1, 0, 1, 0, 1, 0, 1, 1, 1, 1, 0, 0, 0, 0, 0, 1, 0, 0, 0, 0,\n",
       "       1, 1, 1, 0, 0, 1, 1, 0, 0, 0], dtype=int64)"
      ]
     },
     "execution_count": 22,
     "metadata": {},
     "output_type": "execute_result"
    }
   ],
   "source": [
    "y_pred"
   ]
  },
  {
   "cell_type": "code",
   "execution_count": 23,
   "metadata": {},
   "outputs": [],
   "source": [
    "from tensorflow.keras.models import load_model\n",
    "from tensorflow.keras.preprocessing import image"
   ]
  },
  {
   "cell_type": "code",
   "execution_count": 24,
   "metadata": {},
   "outputs": [],
   "source": [
    "model=load_model('model_vgg16.h5')"
   ]
  },
  {
   "cell_type": "code",
   "execution_count": 25,
   "metadata": {},
   "outputs": [
    {
     "ename": "NameError",
     "evalue": "name 'img_data' is not defined",
     "output_type": "error",
     "traceback": [
      "\u001b[1;31m---------------------------------------------------------------------------\u001b[0m",
      "\u001b[1;31mNameError\u001b[0m                                 Traceback (most recent call last)",
      "\u001b[1;32m<ipython-input-25-7b8301fa3f5c>\u001b[0m in \u001b[0;36m<module>\u001b[1;34m\u001b[0m\n\u001b[1;32m----> 1\u001b[1;33m \u001b[0mimg_data\u001b[0m\u001b[1;33m\u001b[0m\u001b[1;33m\u001b[0m\u001b[0m\n\u001b[0m",
      "\u001b[1;31mNameError\u001b[0m: name 'img_data' is not defined"
     ]
    }
   ],
   "source": [
    "img_data"
   ]
  },
  {
   "cell_type": "code",
   "execution_count": null,
   "metadata": {},
   "outputs": [],
   "source": [
    "img=image.load_img('Datasets/test/cats/cat.4259.jpg',target_size=(224,224))\n",
    "\n"
   ]
  },
  {
   "cell_type": "code",
   "execution_count": null,
   "metadata": {},
   "outputs": [],
   "source": [
    "x=image.img_to_array(img)\n",
    "x"
   ]
  },
  {
   "cell_type": "code",
   "execution_count": null,
   "metadata": {},
   "outputs": [],
   "source": [
    "x.shape"
   ]
  },
  {
   "cell_type": "code",
   "execution_count": null,
   "metadata": {},
   "outputs": [],
   "source": [
    "x=x/255"
   ]
  },
  {
   "cell_type": "code",
   "execution_count": null,
   "metadata": {},
   "outputs": [],
   "source": [
    "x=np.expand_dims(x,axis=0)\n",
    "img_data=preprocess_input(x)\n",
    "img_data.shape"
   ]
  },
  {
   "cell_type": "code",
   "execution_count": null,
   "metadata": {},
   "outputs": [],
   "source": [
    "model.predict(img_data)"
   ]
  },
  {
   "cell_type": "code",
   "execution_count": null,
   "metadata": {},
   "outputs": [],
   "source": [
    "a=np.argmax(model.predict(img_data), axis=1)"
   ]
  },
  {
   "cell_type": "code",
   "execution_count": null,
   "metadata": {},
   "outputs": [],
   "source": [
    "a==1"
   ]
  },
  {
   "cell_type": "code",
   "execution_count": null,
   "metadata": {},
   "outputs": [],
   "source": [
    "if a==0:\n",
    "    print(\"The image classified is cat\")\n",
    "else:\n",
    "    \n",
    "    print(\"The image classified is dog\")"
   ]
  },
  {
   "cell_type": "code",
   "execution_count": null,
   "metadata": {},
   "outputs": [],
   "source": []
  }
 ],
 "metadata": {
  "kernelspec": {
   "display_name": "Python 3",
   "language": "python",
   "name": "python3"
  },
  "language_info": {
   "codemirror_mode": {
    "name": "ipython",
    "version": 3
   },
   "file_extension": ".py",
   "mimetype": "text/x-python",
   "name": "python",
   "nbconvert_exporter": "python",
   "pygments_lexer": "ipython3",
   "version": "3.6.9"
  }
 },
 "nbformat": 4,
 "nbformat_minor": 2
}
